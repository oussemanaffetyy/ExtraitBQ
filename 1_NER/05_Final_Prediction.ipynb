{
 "cells": [
  {
   "cell_type": "code",
   "execution_count": 1,
   "id": "92e2cc44-20b6-4e33-bf8d-7cc72b2ac9b8",
   "metadata": {},
   "outputs": [],
   "source": [
    "import cv2\n",
    "import predictions as pred"
   ]
  },
  {
   "cell_type": "code",
   "execution_count": 2,
   "id": "1269bf22-f5a4-4e73-92c8-480e28365490",
   "metadata": {},
   "outputs": [],
   "source": [
    "img = cv2.imread('./Selected/N009.jpg')\n",
    "cv2.namedWindow('original',cv2.WINDOW_NORMAL)\n",
    "cv2.imshow('original',img)\n",
    "cv2.waitKey(0)\n",
    "cv2.destroyAllWindows()"
   ]
  },
  {
   "cell_type": "code",
   "execution_count": 3,
   "id": "b089da82-749e-4e6b-948a-339e4a37e42c",
   "metadata": {},
   "outputs": [
    {
     "name": "stdout",
     "output_type": "stream",
     "text": [
      "home master hardware electrical nq.113g 1156, jalan setia gembilang u13/gg bandar setia alam, 40770 bandar setia alam, selangor, company reg na. s403711951-f gst reg no. 001837511166 tak invoice invole no. «cs 87832 date 22/12/2017 1403 cashler cashier rm code 24nimw7y m.one tape 1.00 ¥ 15.90 15.90 sh subtotal 75.90 totalexclofgst 45.00 tota incl. of gst 15.90 totalamtrounded 45.90 payment 50.00 change due 34.10 - total tema 4 sg ummary amounirm tax rm sr @a 18.00 o.90 sissncees thane yyy saeeenees ary goods return please 00 within ¢ cays with original receipt ta”\n",
      "{'ORG': ['Home', 'Master', 'Hardware', 'Electrical'], 'DATE': ['22/12/2017'], 'MONEY': ['15.90'], 'CARDINAL': []}\n"
     ]
    }
   ],
   "source": [
    "img_results, entities = pred.getPredictions(img)\n",
    "print(entities)\n",
    "cv2.namedWindow('predictions',cv2.WINDOW_NORMAL)\n",
    "cv2.imshow('predictions',img_results)\n",
    "cv2.waitKey(0)\n",
    "cv2.destroyAllWindows()"
   ]
  }
 ],
 "metadata": {
  "kernelspec": {
   "display_name": "Python 3 (ipykernel)",
   "language": "python",
   "name": "python3"
  },
  "language_info": {
   "codemirror_mode": {
    "name": "ipython",
    "version": 3
   },
   "file_extension": ".py",
   "mimetype": "text/x-python",
   "name": "python",
   "nbconvert_exporter": "python",
   "pygments_lexer": "ipython3",
   "version": "3.11.5"
  }
 },
 "nbformat": 4,
 "nbformat_minor": 5
}
