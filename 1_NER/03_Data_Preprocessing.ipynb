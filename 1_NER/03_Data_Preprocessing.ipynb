{
 "cells": [
  {
   "cell_type": "code",
   "execution_count": 1,
   "id": "16141f65",
   "metadata": {},
   "outputs": [],
   "source": [
    "import numpy as np\n",
    "import pandas as pd\n",
    "import string\n",
    "import re"
   ]
  },
  {
   "cell_type": "code",
   "execution_count": 2,
   "id": "14517a2a",
   "metadata": {},
   "outputs": [],
   "source": [
    "with open('Invoice.txt',mode='r',encoding='utf8',errors='ignore') as f:\n",
    "    text = f.read()"
   ]
  },
  {
   "cell_type": "code",
   "execution_count": 3,
   "id": "b77f414c",
   "metadata": {},
   "outputs": [],
   "source": [
    "data = list(map(lambda x:x.split('\\t'),text.split('\\n')))"
   ]
  },
  {
   "cell_type": "code",
   "execution_count": 4,
   "id": "6845e6ca",
   "metadata": {},
   "outputs": [],
   "source": [
    "df = pd.DataFrame(data[1:],columns=data[0])"
   ]
  },
  {
   "cell_type": "code",
   "execution_count": 5,
   "id": "56d12a7f",
   "metadata": {},
   "outputs": [
    {
     "data": {
      "text/html": [
       "<div>\n",
       "<style scoped>\n",
       "    .dataframe tbody tr th:only-of-type {\n",
       "        vertical-align: middle;\n",
       "    }\n",
       "\n",
       "    .dataframe tbody tr th {\n",
       "        vertical-align: top;\n",
       "    }\n",
       "\n",
       "    .dataframe thead th {\n",
       "        text-align: right;\n",
       "    }\n",
       "</style>\n",
       "<table border=\"1\" class=\"dataframe\">\n",
       "  <thead>\n",
       "    <tr style=\"text-align: right;\">\n",
       "      <th></th>\n",
       "      <th>id</th>\n",
       "      <th>text</th>\n",
       "      <th>tag</th>\n",
       "    </tr>\n",
       "  </thead>\n",
       "  <tbody>\n",
       "    <tr>\n",
       "      <th>0</th>\n",
       "      <td>N001.jpg</td>\n",
       "      <td>tan</td>\n",
       "      <td>B-ORG</td>\n",
       "    </tr>\n",
       "    <tr>\n",
       "      <th>1</th>\n",
       "      <td>N001.jpg</td>\n",
       "      <td>woon</td>\n",
       "      <td>I-ORG</td>\n",
       "    </tr>\n",
       "    <tr>\n",
       "      <th>2</th>\n",
       "      <td>N001.jpg</td>\n",
       "      <td>yann</td>\n",
       "      <td>ORG</td>\n",
       "    </tr>\n",
       "    <tr>\n",
       "      <th>3</th>\n",
       "      <td>N001.jpg</td>\n",
       "      <td>BOOK</td>\n",
       "      <td>O</td>\n",
       "    </tr>\n",
       "    <tr>\n",
       "      <th>4</th>\n",
       "      <td>N001.jpg</td>\n",
       "      <td>TA-K</td>\n",
       "      <td>O</td>\n",
       "    </tr>\n",
       "    <tr>\n",
       "      <th>5</th>\n",
       "      <td>N001.jpg</td>\n",
       "      <td>(TAMAN</td>\n",
       "      <td>O</td>\n",
       "    </tr>\n",
       "    <tr>\n",
       "      <th>6</th>\n",
       "      <td>N001.jpg</td>\n",
       "      <td>DAYA)</td>\n",
       "      <td>O</td>\n",
       "    </tr>\n",
       "    <tr>\n",
       "      <th>7</th>\n",
       "      <td>N001.jpg</td>\n",
       "      <td>SDN</td>\n",
       "      <td>O</td>\n",
       "    </tr>\n",
       "    <tr>\n",
       "      <th>8</th>\n",
       "      <td>N001.jpg</td>\n",
       "      <td>BHD</td>\n",
       "      <td>O</td>\n",
       "    </tr>\n",
       "    <tr>\n",
       "      <th>9</th>\n",
       "      <td>N001.jpg</td>\n",
       "      <td>NO.5?</td>\n",
       "      <td>O</td>\n",
       "    </tr>\n",
       "  </tbody>\n",
       "</table>\n",
       "</div>"
      ],
      "text/plain": [
       "         id    text    tag\n",
       "0  N001.jpg     tan  B-ORG\n",
       "1  N001.jpg    woon  I-ORG\n",
       "2  N001.jpg    yann    ORG\n",
       "3  N001.jpg    BOOK      O\n",
       "4  N001.jpg    TA-K      O\n",
       "5  N001.jpg  (TAMAN      O\n",
       "6  N001.jpg   DAYA)      O\n",
       "7  N001.jpg     SDN      O\n",
       "8  N001.jpg     BHD      O\n",
       "9  N001.jpg   NO.5?      O"
      ]
     },
     "execution_count": 5,
     "metadata": {},
     "output_type": "execute_result"
    }
   ],
   "source": [
    "df.head(10)"
   ]
  },
  {
   "cell_type": "markdown",
   "id": "401e943e",
   "metadata": {},
   "source": [
    "### Cleaning Text\n",
    "- Remove white space\n",
    "- Remove Unwanted special characters"
   ]
  },
  {
   "cell_type": "code",
   "execution_count": 6,
   "id": "4825ac9a",
   "metadata": {},
   "outputs": [],
   "source": [
    "whitespace = string.whitespace\n",
    "punctuation = \"!#$%&\\'()*+:;<=>?[\\\\]^`{|}~\"\n",
    "tableWhitespace = str.maketrans('','',whitespace)\n",
    "tablePunctuation = str.maketrans('','',punctuation)\n",
    "def cleanText(txt):\n",
    "    text = str(txt)\n",
    "    text = text.lower()\n",
    "    removewhitespace = text.translate(tableWhitespace)\n",
    "    removepunctuation = removewhitespace.translate(tablePunctuation)\n",
    "    \n",
    "    return str(removepunctuation)\n"
   ]
  },
  {
   "cell_type": "code",
   "execution_count": 7,
   "id": "37218136",
   "metadata": {},
   "outputs": [],
   "source": [
    "df['text'] = df['text'].apply(cleanText)"
   ]
  },
  {
   "cell_type": "code",
   "execution_count": 8,
   "id": "0bdf5554",
   "metadata": {},
   "outputs": [
    {
     "name": "stderr",
     "output_type": "stream",
     "text": [
      "C:\\Users\\oussemanaffety\\AppData\\Local\\Temp\\ipykernel_14804\\3379659824.py:2: SettingWithCopyWarning: \n",
      "A value is trying to be set on a copy of a slice from a DataFrame\n",
      "\n",
      "See the caveats in the documentation: https://pandas.pydata.org/pandas-docs/stable/user_guide/indexing.html#returning-a-view-versus-a-copy\n",
      "  dataClean.dropna(inplace=True)\n"
     ]
    }
   ],
   "source": [
    "dataClean = df.query(\"text != '' \")\n",
    "dataClean.dropna(inplace=True)"
   ]
  },
  {
   "cell_type": "code",
   "execution_count": 9,
   "id": "146af89d",
   "metadata": {},
   "outputs": [
    {
     "data": {
      "text/html": [
       "<div>\n",
       "<style scoped>\n",
       "    .dataframe tbody tr th:only-of-type {\n",
       "        vertical-align: middle;\n",
       "    }\n",
       "\n",
       "    .dataframe tbody tr th {\n",
       "        vertical-align: top;\n",
       "    }\n",
       "\n",
       "    .dataframe thead th {\n",
       "        text-align: right;\n",
       "    }\n",
       "</style>\n",
       "<table border=\"1\" class=\"dataframe\">\n",
       "  <thead>\n",
       "    <tr style=\"text-align: right;\">\n",
       "      <th></th>\n",
       "      <th>id</th>\n",
       "      <th>text</th>\n",
       "      <th>tag</th>\n",
       "    </tr>\n",
       "  </thead>\n",
       "  <tbody>\n",
       "    <tr>\n",
       "      <th>0</th>\n",
       "      <td>N001.jpg</td>\n",
       "      <td>tan</td>\n",
       "      <td>B-ORG</td>\n",
       "    </tr>\n",
       "    <tr>\n",
       "      <th>1</th>\n",
       "      <td>N001.jpg</td>\n",
       "      <td>woon</td>\n",
       "      <td>I-ORG</td>\n",
       "    </tr>\n",
       "    <tr>\n",
       "      <th>2</th>\n",
       "      <td>N001.jpg</td>\n",
       "      <td>yann</td>\n",
       "      <td>ORG</td>\n",
       "    </tr>\n",
       "    <tr>\n",
       "      <th>3</th>\n",
       "      <td>N001.jpg</td>\n",
       "      <td>book</td>\n",
       "      <td>O</td>\n",
       "    </tr>\n",
       "    <tr>\n",
       "      <th>4</th>\n",
       "      <td>N001.jpg</td>\n",
       "      <td>ta-k</td>\n",
       "      <td>O</td>\n",
       "    </tr>\n",
       "    <tr>\n",
       "      <th>5</th>\n",
       "      <td>N001.jpg</td>\n",
       "      <td>taman</td>\n",
       "      <td>O</td>\n",
       "    </tr>\n",
       "    <tr>\n",
       "      <th>6</th>\n",
       "      <td>N001.jpg</td>\n",
       "      <td>daya</td>\n",
       "      <td>O</td>\n",
       "    </tr>\n",
       "    <tr>\n",
       "      <th>7</th>\n",
       "      <td>N001.jpg</td>\n",
       "      <td>sdn</td>\n",
       "      <td>O</td>\n",
       "    </tr>\n",
       "    <tr>\n",
       "      <th>8</th>\n",
       "      <td>N001.jpg</td>\n",
       "      <td>bhd</td>\n",
       "      <td>O</td>\n",
       "    </tr>\n",
       "    <tr>\n",
       "      <th>9</th>\n",
       "      <td>N001.jpg</td>\n",
       "      <td>no.5</td>\n",
       "      <td>O</td>\n",
       "    </tr>\n",
       "  </tbody>\n",
       "</table>\n",
       "</div>"
      ],
      "text/plain": [
       "         id   text    tag\n",
       "0  N001.jpg    tan  B-ORG\n",
       "1  N001.jpg   woon  I-ORG\n",
       "2  N001.jpg   yann    ORG\n",
       "3  N001.jpg   book      O\n",
       "4  N001.jpg   ta-k      O\n",
       "5  N001.jpg  taman      O\n",
       "6  N001.jpg   daya      O\n",
       "7  N001.jpg    sdn      O\n",
       "8  N001.jpg    bhd      O\n",
       "9  N001.jpg   no.5      O"
      ]
     },
     "execution_count": 9,
     "metadata": {},
     "output_type": "execute_result"
    }
   ],
   "source": [
    "dataClean.head(10)"
   ]
  },
  {
   "cell_type": "markdown",
   "id": "873b4881",
   "metadata": {},
   "source": [
    "### Convert Data into Spacy Format"
   ]
  },
  {
   "cell_type": "code",
   "execution_count": 10,
   "id": "b3a22c16",
   "metadata": {},
   "outputs": [],
   "source": [
    "group = dataClean.groupby(by='id')"
   ]
  },
  {
   "cell_type": "code",
   "execution_count": 11,
   "id": "01fc9f98",
   "metadata": {},
   "outputs": [],
   "source": [
    "cards = group.groups.keys()"
   ]
  },
  {
   "cell_type": "code",
   "execution_count": 13,
   "id": "d6eb5c85",
   "metadata": {},
   "outputs": [],
   "source": [
    "allInvoiceData = []\n",
    "for card in cards:\n",
    "    invoiceData = []\n",
    "    grouparray = group.get_group(card)[['text','tag']].values\n",
    "    content = ''\n",
    "    annotations = {'entities':[]}\n",
    "    start = 0\n",
    "    end = 0\n",
    "    for text, label in grouparray:\n",
    "        text = str(text)\n",
    "        stringLength = len(text) + 1\n",
    "\n",
    "        start = end\n",
    "        end = start + stringLength\n",
    "\n",
    "        if label != 'O':\n",
    "            annot = (start,end-1,label)\n",
    "            annotations['entities'].append(annot)\n",
    "\n",
    "        content = content + text + ' '\n",
    "        \n",
    "        \n",
    "    invoiceData = (content,annotations)\n",
    "    allInvoiceData.append(invoiceData)"
   ]
  },
  {
   "cell_type": "code",
   "execution_count": 14,
   "id": "02e77966",
   "metadata": {},
   "outputs": [
    {
     "data": {
      "text/plain": [
       "[('tan woon yann book ta-k taman daya sdn bhd no.5 55,57 59 jalan sagu 18 taman daya 81100 johor bahru, johor. a document no tdo1167104 date 25/12/2018 081339 pm cashier manis member cash bill code/desc price amouht quy rm rm 9,56e12 kf modelling clay kiddy fish 9.00 6 9.00 total 9.00 rour ding adjustment 0.00 roundd total rm 9.60 cash change goods sold are not returnar exchangeable thank you. please come agaty ',\n",
       "  {'entities': [(0, 3, 'B-ORG'),\n",
       "    (4, 8, 'I-ORG'),\n",
       "    (9, 13, 'ORG'),\n",
       "    (122, 132, 'B-CARDINAL'),\n",
       "    (138, 148, 'B-DATE'),\n",
       "    (267, 271, 'B-MONEY'),\n",
       "    (278, 282, 'B-MONEY')]}),\n",
       " ('tan woon yann indah gift home beco 27 jalan dedap 13 tanan johor jaya, 81100 johor bahru, johor. tel07-3507405 fax07-3558160 receipt 19/10/2018 204959 01 cashier cn location/sp 5 /0531 mb 4026588 room no of 50100025279 gty price amt/rh st-privilege card/gd indah 89888 1 10.00 10.00 gf-table lamp/stitch i 62483 1 55.90 55.90 10.00 htotal qty 2 total aht. rounding adi. thank you please come again goods sold are not retu healing in wholesale and ',\n",
       "  {'entities': [(0, 3, 'B-ORG'),\n",
       "    (4, 8, 'I-ORG'),\n",
       "    (9, 13, 'I-ORG'),\n",
       "    (133, 143, 'B-DATE'),\n",
       "    (314, 319, 'B-MONEY'),\n",
       "    (320, 325, 'B-MONEY')]}),\n",
       " ('tan woon yann mr o.1.. johor sdn bhd co.reg 933109-x lot 1851-a 1851-b, jalan kpb 6 kawasan perindustrian balakong , 43300 seri kembangan, selangor mr diy tesco terbau invoice chopping board 35.5x25.5cm 803m eziohdos - 24 8970669 1x 19.00 19.00 air pressure sprayer sx-75-1 1.5l hco3-7 - 15 9066468 8.02 8.02 waxco windshiled 120ml wai4-3a - 48 8,56e12 1x 3.02 3,02 bopp tape clear fz-04 - 36 6,94e12 1x 3,88 3,88 items 4 qtys 4 total rm 33 92 rounding nom 0.02 total rounded rh 33,9 cash rm 50.00 change rm 16.10 ---------- 12/01/2019 2113 zko9 14 operator trainee cashier exchange are allowed within 7 days with receipt. strictly no cash refund. ',\n",
       "  {'entities': [(0, 3, 'B-ORG'),\n",
       "    (4, 8, 'I-ORG'),\n",
       "    (9, 13, 'I-ORG'),\n",
       "    (525, 535, 'B-DATE')]}),\n",
       " ('tan woon yann yongfatt enterprise no 122.124. jalan dedap 13 81100 johor bahru tel 07-352 849812 simplified tax invoice cash doe no cs00031664 date 26/12/2018 user time 12.31.00 sak. ap ret fom qty amount tax 8318 1 8091 8091 sr elegant sch tr bag 15 total qty 1 8091 total sales excluding gst 60.91 discount 0 total gst 0.00 rounding 1 elusive of gst 80.90 cash 100.00 change 19.10 1 amtrm tax 80.91 000 total 8091 0.09 are not refundable, only ',\n",
       "  {'entities': [(0, 3, 'B-ORG'),\n",
       "    (4, 8, 'I-ORG'),\n",
       "    (9, 13, 'I-ORG'),\n",
       "    (132, 142, 'B-CARDINAL'),\n",
       "    (148, 158, 'B-DATE'),\n",
       "    (214, 215, ''),\n",
       "    (216, 220, 'B-MONEY'),\n",
       "    (221, 225, 'B-MONEY'),\n",
       "    (263, 267, 'B-MONEY'),\n",
       "    (411, 415, 'B-MONEY')]}),\n",
       " ('tan woon yann mr m4 son bhd co.reg ot jalan kpb 6 kawasan perindustrian balakong, 43300 kembangan, selangor tesco putra nilai auto eco ash shine 51000 it wa4s-/2a - 12 916500133 3.11 \"\"\"eco\" auto wash hax ew-1000-11. a 12 16500126 1x 4.62 4.62 277ml moq 2572 wass-a - 24 84 tx kleenso ajaib 99 serat wanyi wooo - 15 51400385 145 erchtef 7138682pcs 6/900 1x 4,5 4.50 items 5 qtys 5 tota rm 30,9 rounding adjust rm 0.01 total rounded, rm 30.90 cash rm 51.00 change rm 20.10 18/11/2018 2163 12 ro00002902 cashter exchange are allowed within 7 days with receipt. strictly no cash refund, ',\n",
       "  {'entities': [(0, 3, 'B-ORG'),\n",
       "    (4, 8, 'I-ORG'),\n",
       "    (9, 13, 'I-ORG'),\n",
       "    (389, 393, 'B-MONEY'),\n",
       "    (436, 441, 'B-MONEY'),\n",
       "    (472, 482, 'B-DATE')]}),\n",
       " ('tan chay yee abc ho trading no,24, jalan harmont 3/2, taman desa harmont 81100 johor bahru.johor 07-355 2616 cash bill date 09/01/2019 080111 pm cashier ol description qty price amount so rm rm 2 15.50 31.00 total amount cash received change 70.00 goods sold are thank you 3 0 \"\"\"please\" come again ',\n",
       "  {'entities': [(0, 3, 'B-ORG'),\n",
       "    (4, 8, 'I-ORG'),\n",
       "    (9, 12, 'I-ORG'),\n",
       "    (124, 134, 'B-DATE'),\n",
       "    (202, 207, 'B-MONEY')]}),\n",
       " ('tan chay yee soon huat machinery enterprise jm0352019-k no.53 jalan putra 1 taman sri putra, 81200 johor bahru johor tel 07-5547360 /016-7993391 fax 07-5624059 soonhuat2000@hotmail.com gst id 2116837376 cash doc no. date 11/01/2019 cashier user time 094400 ret. tak 80.00 repair engine power sprayer 1unit workmanship service 70549 1 160.00 160.00 giant 606 overflow assy 1071 1 17.00 17.00 17.00 engine 70791 1 10.00 1000 10.00 grease for tools 40ml akoda 70637 1 6.00 6.00 6.00 ey20 plug champion 1643 1 goo 8.00 8.00 starter tali 70197 1 10.00 10.00 10.00 ey20 starter handle 70561 18.00 18.00 36.00 ho40 1l cotin 9 totalsales 327.00 discount 0.00 total 0.00 rounding 0 total sales 327.00 cash 327.00 change 0.00 goods sold are not returnable, thank you. ',\n",
       "  {'entities': [(0, 3, 'B-ORG'),\n",
       "    (4, 8, 'I-ORG'),\n",
       "    (9, 12, 'I-ORG'),\n",
       "    (221, 231, 'B-DATE'),\n",
       "    (630, 636, 'B-MONEY'),\n",
       "    (697, 703, 'B-MONEY')]}),\n",
       " ('tan chay yee hotor sungat rengit son, bt. 801580-t no. 343 jalan kurau, sungai rengit, 81620 pengerang, johor. el 07-8263254 fax 07-8266888 invoice ttem/desc. u.price 4132 1 20.00 20. 0 crocs 300x17 tubes sub total 20.00 rounding adjustment 0.00 grand total 20.00 cash 20.00 change 0.00 23/01/2019 131415 pm, print by root token no 0 station id al, pid pos invoice no 22497 thanks your support 4 www 0 ',\n",
       "  {'entities': [(0, 3, 'B-ORG'),\n",
       "    (4, 8, 'I-ORG'),\n",
       "    (9, 12, 'I-ORG'),\n",
       "    (215, 220, 'B-MONEY'),\n",
       "    (258, 263, 'B-MONEY'),\n",
       "    (269, 274, 'B-MONEY'),\n",
       "    (287, 297, 'B-DATE')]}),\n",
       " ('home master hardware electrical nq.113g jalan setia gembilang bandar setia alam, 40770 bandar setia alam, selangor, company reg na. gst reg no. 1837511166 tak invoice cs 87832 date 22/12/2017 1403 cashler cashier rm code m.one tape 1.00 15.90 15.90 sh subtotal 75.90 totalexclofgst 45.00 tota incl. of gst 15.90 totalamtrounded 45.90 payment change due 34.10 total sg amounirm tax rm sr @a 18.00 ary goods return please 0 within cays with original receipt ta ',\n",
       "  {'entities': [(0, 4, 'B-ORG'),\n",
       "    (5, 11, 'I-ORG'),\n",
       "    (12, 20, 'I-ORG'),\n",
       "    (21, 31, 'I-ORG'),\n",
       "    (181, 191, 'B-DATE')]}),\n",
       " ('restoran hassanbistro no.2-1-1 jalan prima q u 13/0 seti, al am 40170 shaw alam tax invoice terminal cl cashter hassan bill no 1-0170778 date 12/28/2017 101732 pm token cti table pru. bt qty u.price gst total 1 18.00 0 15.00 zp oe total qty 1.00 sub. total sees ee discount total excl.8 gs rw gst 6 fy total incl.6 gst rx ea rounding rh re py ee be change nee nnn 0 thank again. 28/12/2017 2217pm ',\n",
       "  {'entities': [(0, 8, 'B-ORG'),\n",
       "    (9, 21, 'I-ORG'),\n",
       "    (142, 152, 'B-DATE'),\n",
       "    (219, 224, 'B-MONEY'),\n",
       "    (379, 389, 'B-DATE')]}),\n",
       " ('home master hardware electrical nq.113g jalan setia gembilang bandar setia alam, 40770 bandar setia alam, selangor, company reg na. gst reg no. 1837511166 tak invoice cs 87832 date 22/12/2017 1403 cashler cashier rm code m.one tape 1.00 15.90 15.90 sh subtotal 75.90 totalexclofgst 45.00 tota incl. of gst 15.90 totalamtrounded 45.90 payment change due 34.10 total sg amounirm tax rm sr @a 18.00 ary goods return please 0 within cays with original receipt ta ',\n",
       "  {'entities': [(0, 4, 'B-ORG'),\n",
       "    (5, 11, 'I-ORG'),\n",
       "    (12, 20, 'I-ORG'),\n",
       "    (21, 31, 'I-ORG'),\n",
       "    (181, 191, 'B-DATE'),\n",
       "    (306, 311, 'B-MONEY')]}),\n",
       " ('bill no date cashier 123 pax 1 thai delicious restaurant no.22 jalan puteri 02-avr bandar puteri 47100 puchong, selangor mars-51 9514 4 description o6sbraised pork leg small 32 phranakon salted egg squid nila basin 1 garlic fried kailan 84 kerabutofu i vin 130 plain rice 113 coconut thai 116 distilled water 106b cold pandan ginger tea 01-36870 02/02/2017 073108 pm a3 qty 1 grand total cash received change average / paxs price amount 20.00 20.00 28.00 28.00 13.00 13.00 15.00 15.00 1.80 7.20 6.50 650 0.60 0 60 2.50 2.50 92.80 100.00 7.20 23.20 thank you. please come again. ',\n",
       "  {'entities': [(31, 35, 'B-ORG'),\n",
       "    (36, 45, 'I-ORG'),\n",
       "    (46, 56, 'I-ORG'),\n",
       "    (346, 356, 'B-DATE'),\n",
       "    (524, 529, 'B-MONEY')]}),\n",
       " ('popular book. co. m sdn bhd company no. g57 reg no. 001472992000 no 8 jalan desa tun razak kuala lumpur, nalaysis kl festival city mall tel 2 03-41424540/20 o7/01/18 1441 slip now 7010385094 norhasmida trans p.copy 480s spe @ 13.89 t stat-great saving fotal rm incl. of gst rounding adj total rh 3445 cash change 1. ttenm court 3 gst mary amount rh tax ra t 4 29.89 1.8 total savings be a popular card member and enioy thank you. flease come again. hy buy chinese books online coli. ny ',\n",
       "  {'entities': [(0, 7, 'B-ORG'), (8, 13, 'I-ORG'), (157, 165, 'B-DATE')]}),\n",
       " ('ay popular book co. m sdn bhd co. no. 113825-w gst reg no. 001492992000 no 8 jalan 7/118b, desa tun razak 56000 kuala lumpur, malaysia sunway velocity tel mars-01 6281/6920 29/03/2018 1324 slip no. 10111111 wong hui ling trans 121722 description amount pb sht/p 11h a4 10s 2pe @ 3,5 7.00 t r ring 500s 22.65 7 total rm incl. of gst 9.65 cash -50. 0 change 40. 35 item count 3 gst summary amount rm tax rm t @ 6 9.10 0.55 total savings 0. 0 be a popular card member and enjoy special discounts thank you. please come again. www. popular. com. my buy chinese books online www. popularon ine. com. ny ',\n",
       "  {'entities': [(3, 10, 'B-ORG'), (11, 15, 'I-ORG'), (173, 183, 'B-DATE')]}),\n",
       " ('popular book co. m sdn bhd co. now 2000 gst rew no. 14929 no 8 jalan 7/118b, desa tun razak 56000 kuala lumpur, malaysia sunway velocity tel mars-01 12/01/2018 1 1652 slip no. pet yi trans 120 70g 450s 2pc 6 13.69 stat-great total rm incl. ae rounding adj total rm cash change item count gst summary amount rm t @ 6 19.79 20070154 77489 amount 27. 38 -6. 40 20. 98 0. 2 21.00 -50. 0 2 tax rm 1.19 -6. 40 be a popular card member and enjoy special discounts thank you. please come again. www. popu lar. com. my buy chinese books online wew. ine. com. ny 29. 0 ',\n",
       "  {'entities': [(0, 7, 'B-ORG'), (8, 12, 'I-ORG'), (149, 159, 'B-DATE')]}),\n",
       " ('212 te lad syarikat perniagaan gin kee 81109-a no 290 jalan air panas. setapak, 53200 kuala lumpur. tel 03-40210276 gst id 750673920 simplified tax invoice doc no. s00011983 date 04/12/2017 cashier user time 161500 salesperson . ref. yo tax_ 1476 4690 4770 sr 25kg sika cream total qty total sales excluding gst 45.00 discount 9.00 total gst 2.70 rounding 0.00 total sales inclusive of gst _47.70 i cash 47.70 change 0.00 gst summary i tax code h amtrm tax rm i sr 6 45.00 270 i total 45.00 2.7 goous sold are not returnable, thank you ',\n",
       "  {'entities': [(11, 19, 'B-ORG'),\n",
       "    (20, 30, 'I-ORG'),\n",
       "    (31, 34, 'I-ORG'),\n",
       "    (35, 38, 'I-ORG'),\n",
       "    (179, 189, 'B-DATE'),\n",
       "    (390, 396, 'B-MONEY'),\n",
       "    (404, 409, 'B-MONEY')]}),\n",
       " ('syarikat perniagaan gin kee 81109-a no 290 jalan air panas, setapak, 63200 kuala lumpur. tel 03-40210276 gst id 750673920 simplified tax invoice cash peta doc no date cashier user time 17 2100 salesperson ref. we tey sipe amount 4 7a2 7.42 sr spray paint 7 42 i total sales excluding gst . 7.00 discount 0.00 i totalgst . 0.42 rois total sales inclusive of gst 7.42 cash 7.42 change 0.00 14 gstsummary code 0 tax rm ee 700 o42 i 7.00 0.42 thank you ',\n",
       "  {'entities': [(0, 8, 'B-ORG'),\n",
       "    (9, 19, 'I-ORG'),\n",
       "    (20, 23, 'I-ORG'),\n",
       "    (24, 27, 'I-ORG'),\n",
       "    (235, 239, 'B-MONEY'),\n",
       "    (361, 365, 'B-MONEY'),\n",
       "    (371, 375, 'B-MONEY'),\n",
       "    (376, 382, '')]}),\n",
       " ('syarikat perniagaan gin kee 81109-a no 290 jalan air panas, setapak, 3200, kuala lumpur. tel 03-40210276 gst id 750673920 simplified tax invoice cash a doc no. date 02/12/2017 cashier user time 084400 salesperson ref. . tem ty g/price tax 3122 4 29.68 29.68 sr w33 105mm/4 gutting disc joalay 1 _ 29.68 total sales excluding gst 28.00 discount 0 totalgst 1.68 rounding 0.00 total sales inclusive of gst cash 29.68 change 0 gst summary tax code amt rm tax rm sr 6 28.00 1.68 total 28.00 1.68 ate ',\n",
       "  {'entities': [(0, 8, 'B-ORG'),\n",
       "    (9, 19, 'I-ORG'),\n",
       "    (20, 23, 'I-ORG'),\n",
       "    (24, 27, 'I-ORG'),\n",
       "    (165, 175, 'B-DATE'),\n",
       "    (246, 251, 'B-MONEY'),\n",
       "    (252, 257, 'B-MONEY'),\n",
       "    (408, 413, 'B-MONEY')]}),\n",
       " ('syarikat perniagaan gin kee 81109-a no 290 jalan air panas, setapak, 53200 kuala lumpur. tel . 03-40210276 gst id 750673920 simplified tax invoice cash 4 doc no. date. 28/12/2017 cashier user time salesperson . ref. ttem ty _amount_ tax_ 1971 1 148.40 14840 sr pas ir halus 1 load small totalqty ot total sales excluding gst . 140.00 discount 0.00 8.40 rounding 0.00 total sales inclusive of gst 148.40 cash 148.40 change 0.00 gstsummary td tax code amtrm sr 6 140.00 8 40 total 140.00 8.40 goods sold are not returnable. thank you ',\n",
       "  {'entities': [(0, 8, 'B-ORG'),\n",
       "    (9, 19, 'I-ORG'),\n",
       "    (20, 23, 'I-ORG'),\n",
       "    (24, 27, 'I-ORG'),\n",
       "    (168, 178, 'B-DATE'),\n",
       "    (461, 467, 'B-MONEY'),\n",
       "    (479, 485, 'B-MONEY')]}),\n",
       " ('lim seng tho hardware trading no 7 simpang off batu village jalan ipoh batu 5 51200 kuala lumpur malaysia tel fax no mars-58 7191 mars-58 7191 company reg no. 002231061-t gst reg no. 1269075963 tax invoice invoice no. cs 24399 date 09/02/2018 1140 cashier lst rm code beg guni 10.00 nos x 70 7.00 sr subtotal 7.00 total incl. of gst 7.00 payment 7.00 change due 0.00 total items 10 gst summary amountrm taxrm sr @6 6.60 tlianik you pi ease come again goods sold are not returinabl e ',\n",
       "  {'entities': [(0, 3, 'B-ORG'),\n",
       "    (4, 8, 'I-ORG'),\n",
       "    (9, 12, 'I-ORG'),\n",
       "    (13, 21, 'I-ORG'),\n",
       "    (22, 29, 'I-ORG'),\n",
       "    (232, 242, 'B-DATE'),\n",
       "    (309, 313, 'B-MONEY'),\n",
       "    (333, 337, 'B-MONEY'),\n",
       "    (346, 350, 'B-MONEY')]}),\n",
       " ('. lim seng tho hardware trading no 7. simpang off batu village jalan ipoh batu 5 51200 kuala lumpur malaysia tel fax no 03-juin mars-58 7191 company reg no. 002231061-7 gst reg no 001269075968 tax invoice invoice no cs 23304 date 29/12/2017 11.41 cashier lst rm code s 3 0 x 2.00 6.00 sr subtotal 6 0 of gst 6 0 payment 6.00 change due 0.00 total items gst suminary sr @ o 5.66 34 juin-34 thank you please come again \"\"\"\" goods sold are not returnable ',\n",
       "  {'entities': [(2, 5, 'B-ORG'),\n",
       "    (6, 10, 'I-ORG'),\n",
       "    (11, 14, 'I-ORG'),\n",
       "    (15, 23, 'I-ORG'),\n",
       "    (24, 31, 'I-ORG'),\n",
       "    (230, 240, 'B-DATE'),\n",
       "    (280, 284, 'B-MONEY'),\n",
       "    (320, 324, 'B-MONEY')]}),\n",
       " ('syarikat perniagaan gin kee 81109-a no 290 jalan air setapak, 53200 kuala lumpur. tel 03-40210276 gst id 750673920 simplified tax invoice cash docno cashier user time. 115700 salesperson ref. item qty s/price tax 2623 2 2.12 424 sr nail per/pack - rm2 3483 7.95 7.95 sr 1 \"1/2\"\"\" sancora paint brush 1452 i 10.07 10.07 sr \"7\"\"\" paint roller set 1664 2 26.50 53.00 sr 1lt big tree high gloss paint 1665 450 0.30 133.56 sr cement brick rm 1041 3 15.90 47.70 sr 6 x 35 corrugated roofing sheet 2430 4 18.02 72.08 sr cement 50kg 1812 2 16.96 3392 sr 1792 3 7.42 22.26 sr 101x2 184i 2 40 28 8056 sr k101x8 sg total sales excluding gst 439.00 discount 0 totalgst 26 34 rounding 0.00 total sales inclusive of gst 465.34 cash 465.34 change 0.00 esr summary taxcode amtrm taxrm sr 6 439.00 26.34 total 439.00 26.34 2634 goods sold are not returnable, thank you a ie ',\n",
       "  {'entities': [(0, 8, 'B-ORG'),\n",
       "    (9, 19, 'I-ORG'),\n",
       "    (20, 23, 'I-ORG'),\n",
       "    (24, 27, 'I-ORG'),\n",
       "    (706, 712, 'B-MONEY'),\n",
       "    (718, 724, 'B-MONEY')]}),\n",
       " ('3 18 1 o14 syarikat perniagaan gin kee 81109-a no 290 jalan air panas, setapak, 53200 kuala lumpur. tel 03-40210276 gst id 750673920 simplified tax invoice cash doc no cs00012507 date 02/01/2018 cashier user time 165800 salesperson ref. ss qty, nom 1811 1 13.57 1357 sr 82x3 1042 4 18.55 7420 sr 7 35 corrugated roofing sheet 1921 1 5.30 30 sr nail per/pack - rm5 9307 total sales excluding gst 87.80 discount 0.00 totalgst . 5.27 rounding 0.00 total sales inclusive of gst 93.07 cash 93.07 change 0.00 esr summary tax code sr 6 87.80 5.27 total 87.80 5.27 goons sold are not returnable, thank you d ',\n",
       "  {'entities': [(11, 19, 'B-ORG'),\n",
       "    (20, 30, 'I-ORG'),\n",
       "    (31, 34, 'I-ORG'),\n",
       "    (35, 38, 'I-ORG'),\n",
       "    (184, 194, 'B-DATE'),\n",
       "    (474, 479, 'B-MONEY'),\n",
       "    (485, 490, 'B-MONEY')]}),\n",
       " ('9 of syarikat perniagaan gin kee 81109-a no 290 jalan air panas, setapak, kuala lumpur. tel 03-40210276 gst id 750673920 simplified tax invoice cash docno. 04/01/2018 cashier user time 163900 salesperson ref. amount tax 2402 1 3.71 3.71 sr 25mm gi nipple 1462 2 0.64 1.27 sr seal tape 1748 1 5.83 583 sr 32mm poly socket 2247 1 33.92 33.92 sr \"1\"\"\" ball valve totalqty, 6 total sales excluding gst 42.20 discount 0.00 2.53 rounding - 0.00 total sales inclusive of gst 44.73 cash 44.73 change 0.00 gst summary taxcode amtrm taxrm sr 6 42.20 2.53 total 42.20 2.53 / goods sold are not returnable, thank you. ',\n",
       "  {'entities': [(5, 13, 'B-ORG'),\n",
       "    (14, 24, 'I-ORG'),\n",
       "    (25, 28, 'I-ORG'),\n",
       "    (29, 32, 'I-ORG'),\n",
       "    (156, 166, 'B-DATE'),\n",
       "    (468, 473, 'B-MONEY'),\n",
       "    (479, 484, 'B-MONEY')]}),\n",
       " ('ll oly syarikat perniagaan gin kee 81109-a no 290 jalan air panas, setapak, 53200 kuala lumpur. tel 03-40210276 gst id 750673920 simplified tax invoice a doc no cs00012626 date 10/01/2018 cashier user time 092000 ref. item amount tax _ 1943 1 23.32 23.32 sr hoes set 42332. total sales excluding gst 22.00 discount 0.00 totalgst 1.32 rounding 0.00 total sales inclusive of gst 23.32 cash 23.32 change 0.00 gst summary tax code amtrm taxrm sr 6 22.00 1.32 total 22.00 1.32 goods sold are not thank you ',\n",
       "  {'entities': [(7, 15, 'B-ORG'),\n",
       "    (16, 26, 'B-ORG'),\n",
       "    (27, 30, 'B-ORG'),\n",
       "    (31, 34, 'B-ORG'),\n",
       "    (177, 187, 'B-DATE'),\n",
       "    (243, 248, 'B-MONEY'),\n",
       "    (249, 254, 'B-MONEY'),\n",
       "    (377, 382, 'B-MONEY'),\n",
       "    (388, 393, 'B-MONEY')]}),\n",
       " ('3 18 ol olt syarikat perniagaan gin kee 81109-a no 290 jalan air panas, setapak 53200 kuala lumpur. tel 03-40210276 gst id 750673920 simplified tax invoice cash docno cashier user time 114200 salesperson ref... item ss qty, tax 1627 1 4.45 4.45 sr wall scraper \"3\"\"\" 2167 2 50.88 101.76 sr 4.5kg renderoc plug 1735 10.07 1007 sr \"5\"\"\" scraper adamark totalqty 4 1628-00 total sales excluding gst 109.70 discount . 0.00 total gst 6.58 rounding - 0.00 total sales inclusive of gst 116.28 cash 116.28 change 0.00 gst summary 7 tax code amt rm tax rm sr 6 109.70 6.58 total 109.70 6.58, goods sold are not returnable, thank you um ',\n",
       "  {'entities': [(12, 20, 'B-ORG'),\n",
       "    (21, 31, 'I-ORG'),\n",
       "    (32, 35, 'I-ORG'),\n",
       "    (36, 39, 'I-ORG'),\n",
       "    (479, 485, 'B-MONEY'),\n",
       "    (491, 497, 'B-MONEY')]}),\n",
       " ('toe 2 18 104 syarikat perniagaan gin kee 81109-a no 290 jalan air panas, setapak, 53200 kuala lumpur. tel 03-40210276 gst id 750673920 simplified tax invoice cash docno 03/01/2018 cashier user time 103700 salesperson ref. lttem_ s/price amount tax 1938 2 6.89 13.78 sr \"4\"\"\" roller set 1618 40.28 40.28 sr 7lt emulsion paint 2430 2 18.02 3604 sr 50kg 2225 1 4.77 477 sr plastic trap l tota sales excluding gst 89.50 discount 0.00 total gst 5.37 rounding 0.00 total sales inclusive of gst 94.87 cash 94.87 change 0.00 gst summary tax code amtrm 6 89.50 5 37 total 89.50 .37 7 goods sold are not returnable, thank you te ',\n",
       "  {'entities': [(13, 21, 'B-ORG'),\n",
       "    (22, 32, 'I-ORG'),\n",
       "    (33, 36, 'I-ORG'),\n",
       "    (37, 40, 'I-ORG'),\n",
       "    (169, 179, 'B-DATE'),\n",
       "    (488, 493, 'B-MONEY'),\n",
       "    (499, 504, 'B-MONEY')]}),\n",
       " ('i 3 1 o14 syarikat perniagaan gin kee 81109-a no 290 jalan air panas, setapak, 53200 kuala lumpur. tel 03-40210276 gst id 750673920 simplified tax invoice cash doc no. date 02/01/2018 cashier user time 092800 salesperson ref. ttem qty /price amount tax 1720 1 3.18 3.18 sr sponge scrub w-plastig handle 1604 1 10.07 10.07 sr 4 \"1/2\"\"\" plastering trowel totalqty total sales excluding gst 12.50 discount 0.00 totalgst 0.75 rounding 0.00 total sales inclusive of gst 13.25 cash 13.25 change 0.00 summary tax code amtrm taxrm sr 6 12.50 0.75 total 12.50 0.75 goods sold are not returnable, thank you ',\n",
       "  {'entities': [(10, 18, 'B-ORG'),\n",
       "    (19, 29, 'I-ORG'),\n",
       "    (30, 33, 'I-ORG'),\n",
       "    (34, 37, 'I-ORG'),\n",
       "    (173, 183, 'B-DATE'),\n",
       "    (465, 470, 'B-MONEY'),\n",
       "    (476, 481, 'B-MONEY')]}),\n",
       " ('3 1g ol syarikat perniagaan gin kee 81109-a no 290 jalan air setapak, 53200 kuala lumpur. tel 03-40210276 gst id 750673920 simplified tax invoice cash docno. cs00012494 date cashier user time 092900 salesperson ref. item ty tax _ 1432 1 2.12 2.12 sr glove 1200 per pair total qty 1 2.12 total sales excluding gst 2.00 discount 0.00 total gst 0.12 rounding 0.00 total sales inclusive of gst 2.12 cash 2.12 change 0.00 gst summary tax code amtrm taxrm sr 6 2.00 0.12 total 2.00 0.121a goods sold are not returnable, thank you ',\n",
       "  {'entities': [(8, 16, 'B-ORG'),\n",
       "    (17, 27, 'I-ORG'),\n",
       "    (28, 31, 'I-ORG'),\n",
       "    (32, 35, 'I-ORG'),\n",
       "    (390, 394, 'B-MONEY'),\n",
       "    (400, 404, 'B-MONEY')]}),\n",
       " ('3 syarikat perniagaan gin kee no 290 jalan air panas, setapak, 53200 kuala lumpur. tel 03-40210276 gst id 750673920 simplified tax invoice cash doc no c06012727 date 13/01/2018 cashier user time 155300 salesperson ref. . ttem s/price amount tax_ 1432 3 6.36 sr glove 12007per qty 3 636 total sales excluding gst 6.00 discount 0.00 totalgst . 0.36 6 rounding 0.00 total sales inclusive of gst 6.36 cash 6.36 change 0.00 gst summary tax code amtrm sr 6 6.00 0.36 total 6.00 0.36 / goods sold are not returnable, thank you ',\n",
       "  {'entities': [(2, 10, 'B-ORG'),\n",
       "    (11, 21, 'B-ORG'),\n",
       "    (22, 25, 'B-ORG'),\n",
       "    (26, 29, 'B-ORG'),\n",
       "    (166, 176, 'B-DATE'),\n",
       "    (392, 396, 'B-MONEY'),\n",
       "    (402, 406, 'B-MONEY')]}),\n",
       " ('syarikat perniagaan gin kee 81109-a no 290 jalan air panas, setapak, 53200 kuala lumpur. tel 03-40210276 gst id 750673920 simplified tax invoice cash doc no date 11/01/2018 cashier user time salesperson - ref. ten qty amount tax_ 1512 2 1060 2120 104 cotton glove dozen total oty 2 21.20 7 total sales excluding gst 20.00 discount 0.00 totalgst 1.20 rounding 0.00 total sales inclusive of gst 21.20 cash 21.20 change 0.00 gst summary tax code amtrm sr 6 20.00 1.20 total 20. 0 1.20 goods sold are not returnable, thank you sss ee ee ',\n",
       "  {'entities': [(0, 8, 'B-ORG'),\n",
       "    (9, 19, 'I-ORG'),\n",
       "    (20, 23, 'I-ORG'),\n",
       "    (24, 27, 'I-ORG'),\n",
       "    (162, 172, 'B-DATE')]})]"
      ]
     },
     "execution_count": 14,
     "metadata": {},
     "output_type": "execute_result"
    }
   ],
   "source": [
    "allInvoiceData"
   ]
  },
  {
   "cell_type": "code",
   "execution_count": 15,
   "id": "ed99465a",
   "metadata": {},
   "outputs": [],
   "source": [
    "invoice_data_df = pd.DataFrame(allInvoiceData,columns=['text','labels'])\n",
    "invoice_data_df['isNull'] = invoice_data_df['labels'].apply(lambda x: 'Null' if len(x['entities']) ==0 \n",
    "                                                      else 'Clean')"
   ]
  },
  {
   "cell_type": "markdown",
   "id": "49bdf6bc",
   "metadata": {},
   "source": [
    "#### Null entries need to drop"
   ]
  },
  {
   "cell_type": "code",
   "execution_count": 16,
   "id": "4b02a598",
   "metadata": {},
   "outputs": [
    {
     "data": {
      "text/html": [
       "<div>\n",
       "<style scoped>\n",
       "    .dataframe tbody tr th:only-of-type {\n",
       "        vertical-align: middle;\n",
       "    }\n",
       "\n",
       "    .dataframe tbody tr th {\n",
       "        vertical-align: top;\n",
       "    }\n",
       "\n",
       "    .dataframe thead th {\n",
       "        text-align: right;\n",
       "    }\n",
       "</style>\n",
       "<table border=\"1\" class=\"dataframe\">\n",
       "  <thead>\n",
       "    <tr style=\"text-align: right;\">\n",
       "      <th></th>\n",
       "      <th>text</th>\n",
       "      <th>labels</th>\n",
       "      <th>isNull</th>\n",
       "    </tr>\n",
       "  </thead>\n",
       "  <tbody>\n",
       "  </tbody>\n",
       "</table>\n",
       "</div>"
      ],
      "text/plain": [
       "Empty DataFrame\n",
       "Columns: [text, labels, isNull]\n",
       "Index: []"
      ]
     },
     "execution_count": 16,
     "metadata": {},
     "output_type": "execute_result"
    }
   ],
   "source": [
    "invoice_data_df.query('isNull == \"Null\"')"
   ]
  },
  {
   "cell_type": "markdown",
   "id": "2fdf4428",
   "metadata": {},
   "source": [
    "#### Consilder only clean data"
   ]
  },
  {
   "cell_type": "code",
   "execution_count": 17,
   "id": "16a7e88e",
   "metadata": {},
   "outputs": [],
   "source": [
    "invoice_data_df.dropna(inplace=True)\n",
    "clean_data = invoice_data_df.query('isNull == \"Clean\"')[['text','labels']]"
   ]
  },
  {
   "cell_type": "code",
   "execution_count": 18,
   "id": "33582a0e",
   "metadata": {},
   "outputs": [],
   "source": [
    "allInvoiceData = list(map(lambda x: tuple(x), clean_data.values.tolist()))"
   ]
  },
  {
   "cell_type": "code",
   "execution_count": null,
   "id": "9bec63d4",
   "metadata": {},
   "outputs": [],
   "source": []
  },
  {
   "cell_type": "markdown",
   "id": "aaf8a41e",
   "metadata": {},
   "source": [
    "## Split the Data into Training and Testing Set"
   ]
  },
  {
   "cell_type": "code",
   "execution_count": 20,
   "id": "e7331657",
   "metadata": {},
   "outputs": [],
   "source": [
    "import random"
   ]
  },
  {
   "cell_type": "code",
   "execution_count": 21,
   "id": "0b6005c5",
   "metadata": {},
   "outputs": [],
   "source": [
    "random.shuffle(allInvoiceData)"
   ]
  },
  {
   "cell_type": "code",
   "execution_count": 22,
   "id": "3cacb40d",
   "metadata": {},
   "outputs": [
    {
     "data": {
      "text/plain": [
       "31"
      ]
     },
     "execution_count": 22,
     "metadata": {},
     "output_type": "execute_result"
    }
   ],
   "source": [
    "len(allInvoiceData)"
   ]
  },
  {
   "cell_type": "code",
   "execution_count": 23,
   "id": "8fd78b34",
   "metadata": {},
   "outputs": [],
   "source": [
    "TrainData = allInvoiceData[:240]\n",
    "TestData = allInvoiceData[240:]"
   ]
  },
  {
   "cell_type": "code",
   "execution_count": 24,
   "id": "269d5acd",
   "metadata": {},
   "outputs": [],
   "source": [
    "import pickle"
   ]
  },
  {
   "cell_type": "code",
   "execution_count": 26,
   "id": "5034ce89",
   "metadata": {},
   "outputs": [],
   "source": [
    "pickle.dump(TrainData,open('./data/TrainData.pickle',mode='wb'))\n",
    "pickle.dump(TestData,open('./data/TestData.pickle',mode='wb'))"
   ]
  },
  {
   "cell_type": "code",
   "execution_count": null,
   "id": "7ef93a0f",
   "metadata": {},
   "outputs": [],
   "source": []
  },
  {
   "cell_type": "code",
   "execution_count": null,
   "id": "80ea3e20",
   "metadata": {},
   "outputs": [],
   "source": []
  }
 ],
 "metadata": {
  "kernelspec": {
   "display_name": "Python 3 (ipykernel)",
   "language": "python",
   "name": "python3"
  },
  "language_info": {
   "codemirror_mode": {
    "name": "ipython",
    "version": 3
   },
   "file_extension": ".py",
   "mimetype": "text/x-python",
   "name": "python",
   "nbconvert_exporter": "python",
   "pygments_lexer": "ipython3",
   "version": "3.11.5"
  }
 },
 "nbformat": 4,
 "nbformat_minor": 5
}
