{
 "cells": [
  {
   "cell_type": "code",
   "execution_count": 11,
   "id": "ac728238",
   "metadata": {},
   "outputs": [],
   "source": [
    "import numpy as np\n",
    "import pandas as pd\n",
    "import cv2\n",
    "import pytesseract\n",
    "\n",
    "import os\n",
    "from glob import glob\n",
    "from tqdm import tqdm\n",
    "\n",
    "import warnings\n",
    "warnings.filterwarnings('ignore')"
   ]
  },
  {
   "cell_type": "code",
   "execution_count": null,
   "id": "029db6ce-0e50-441a-8e7a-6bd964841332",
   "metadata": {},
   "outputs": [],
   "source": [
    "imgPath = glob('./Selected/*.jpg')"
   ]
  },
  {
   "cell_type": "code",
   "execution_count": 13,
   "id": "916771c6",
   "metadata": {},
   "outputs": [
    {
     "name": "stderr",
     "output_type": "stream",
     "text": [
      "Invoice: 100%|███████████████████████████████████████████████████████████████████████| 134/134 [12:28<00:00,  5.59s/it]\n"
     ]
    }
   ],
   "source": [
    "allInvoice = pd.DataFrame(columns=['id','text'])\n",
    "\n",
    "for imgPath in  tqdm(imgPaths,desc='Invoice'):\n",
    "    \n",
    "    #imgPath = imgPaths[0]\n",
    "    _, filename = os.path.split(imgPath)\n",
    "    # extract data and text \n",
    "    image = cv2.imread(imgPath)\n",
    "    data = pytesseract.image_to_data(image)\n",
    "    dataList = list(map(lambda x: x.split('\\t'),data.split('\\n')))\n",
    "    df = pd.DataFrame(dataList[1:],columns=dataList[0])\n",
    "    df.dropna(inplace=True)\n",
    "    df['conf'] = df['conf'].astype(int)\n",
    "\n",
    "    useFulData = df.query('conf >= 30')\n",
    "\n",
    "    # Dataframe\n",
    "    Invoice = pd.DataFrame()\n",
    "    Invoice['text'] = useFulData['text']\n",
    "    Invoice['id'] = filename\n",
    "    \n",
    "    # concatenation\n",
    "    allInvoice = pd.concat((allInvoice,Invoice))"
   ]
  },
  {
   "cell_type": "code",
   "execution_count": 14,
   "id": "f8f71d81",
   "metadata": {},
   "outputs": [],
   "source": [
    "allInvoice.to_csv('Invoice.csv',index=False)"
   ]
  },
  {
   "cell_type": "code",
   "execution_count": null,
   "id": "05c650b6",
   "metadata": {},
   "outputs": [],
   "source": []
  },
  {
   "cell_type": "code",
   "execution_count": null,
   "id": "a6cf2563",
   "metadata": {},
   "outputs": [],
   "source": []
  },
  {
   "cell_type": "code",
   "execution_count": null,
   "id": "d3c64abb",
   "metadata": {},
   "outputs": [],
   "source": []
  },
  {
   "cell_type": "code",
   "execution_count": null,
   "id": "0314560d",
   "metadata": {},
   "outputs": [],
   "source": []
  }
 ],
 "metadata": {
  "kernelspec": {
   "display_name": "Python 3 (ipykernel)",
   "language": "python",
   "name": "python3"
  },
  "language_info": {
   "codemirror_mode": {
    "name": "ipython",
    "version": 3
   },
   "file_extension": ".py",
   "mimetype": "text/x-python",
   "name": "python",
   "nbconvert_exporter": "python",
   "pygments_lexer": "ipython3",
   "version": "3.11.5"
  }
 },
 "nbformat": 4,
 "nbformat_minor": 5
}
