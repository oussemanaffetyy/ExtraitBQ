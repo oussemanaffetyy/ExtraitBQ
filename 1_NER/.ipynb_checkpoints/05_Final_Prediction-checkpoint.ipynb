{
 "cells": [
  {
   "cell_type": "code",
   "execution_count": 2,
   "id": "92e2cc44-20b6-4e33-bf8d-7cc72b2ac9b8",
   "metadata": {},
   "outputs": [],
   "source": [
    "import cv2\n",
    "import predictions as pred"
   ]
  },
  {
   "cell_type": "code",
   "execution_count": 3,
   "id": "1269bf22-f5a4-4e73-92c8-480e28365490",
   "metadata": {},
   "outputs": [],
   "source": [
    "img = cv2.imread('./data/54.jpg')\n",
    "cv2.namedWindow('original',cv2.WINDOW_NORMAL)\n",
    "cv2.imshow('original',img)\n",
    "cv2.waitKey(0)\n",
    "cv2.destroyAllWindows()"
   ]
  },
  {
   "cell_type": "code",
   "execution_count": 5,
   "id": "b089da82-749e-4e6b-948a-339e4a37e42c",
   "metadata": {},
   "outputs": [
    {
     "name": "stdout",
     "output_type": "stream",
     "text": [
      "Stanford Stanford MEDICINE Cardiovascular Institute Joseph C. Wu, MD, PhD Director, Stanford Cardiovascular Institute Professor Medicine Cardiology Radiology 265 Campus Drive, G-1120B ek 650 736-2246 Stanford, CA 94305, MC-5454 http//wulab.stanford.edu joewu@stanford.edu hetp//evistanford.edu\n",
      "{'NAME': ['Joseph'], 'ORG': ['Stanford Medicine'], 'DES': ['Director'], 'PHONE': ['650736'], 'EMAIL': ['joewu@stanford.edu'], 'WEB': ['hetp//evistanford.edu']}\n"
     ]
    }
   ],
   "source": [
    "img_results, entities = pred.getPredictions(img)\n",
    "print(entities)\n",
    "cv2.namedWindow('predictions',cv2.WINDOW_NORMAL)\n",
    "cv2.imshow('predictions',img_results)\n",
    "cv2.waitKey(0)\n",
    "cv2.destroyAllWindows()"
   ]
  }
 ],
 "metadata": {
  "kernelspec": {
   "display_name": "Python 3 (ipykernel)",
   "language": "python",
   "name": "python3"
  },
  "language_info": {
   "codemirror_mode": {
    "name": "ipython",
    "version": 3
   },
   "file_extension": ".py",
   "mimetype": "text/x-python",
   "name": "python",
   "nbconvert_exporter": "python",
   "pygments_lexer": "ipython3",
   "version": "3.11.4"
  }
 },
 "nbformat": 4,
 "nbformat_minor": 5
}
